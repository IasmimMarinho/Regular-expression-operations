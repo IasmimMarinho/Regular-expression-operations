{
  "cells": [
    {
      "cell_type": "markdown",
      "source": [
        "# Exercícios\n",
        "\n",
        "1. Altere o programa abaixo para que identifique apenas as palavras que começam com a, tenham qualquer coisa no meio, e terminem com b."
      ],
      "metadata": {
        "id": "yuRHmWJZwPBo"
      }
    },
    {
      "cell_type": "code",
      "source": [
        "import re\n",
        "def text_match(text):\n",
        "        patterns = '^a.*b$'\n",
        "        if re.search(patterns,  text):\n",
        "                return 'Encontrei!'\n",
        "        else:\n",
        "                return('Oxe!')\n",
        "\n",
        "print(text_match(\"bb\"))\n",
        "print(text_match(\"a1b2b\"))\n",
        "print(text_match(\"abcde\"))\n",
        "print(text_match(\"abcdeb\"))"
      ],
      "metadata": {
        "id": "eQVwtMXAwe7u"
      },
      "execution_count": null,
      "outputs": []
    },
    {
      "cell_type": "markdown",
      "source": [
        "2. Altere a variavel patterns do código da questão 1 e escreva um programa em Python que identifique números de telefone no formato \n",
        " * (71) 98765-4321"
      ],
      "metadata": {
        "id": "wZp6XD3CwgE0"
      }
    },
    {
      "cell_type": "code",
      "source": [
        "import re\n",
        "def text_match(text):\n",
        "        patterns = '\\([0-9]{2}\\)[0-9]{5}-[0-9]{4}'\n",
        "        if re.search(patterns,  text):\n",
        "                return 'Encontrei!'\n",
        "        else:\n",
        "                return('Oxe!')\n",
        "\n",
        "print(text_match(\"(71)982765-43221\"))\n",
        "print(text_match(\"982765-43221\"))\n",
        "print(text_match(\"(71)98255-4321\"))"
      ],
      "metadata": {
        "id": "kqhbvwmkHHGH"
      },
      "execution_count": null,
      "outputs": []
    },
    {
      "cell_type": "markdown",
      "source": [
        "3. Altere a variavel patterns do código da questão 1 e escreva um programa em Python que identifique CPFs no formato \n",
        " * 123.456.789-10"
      ],
      "metadata": {
        "id": "YaeUS5MLwijb"
      }
    },
    {
      "cell_type": "code",
      "source": [
        "import re\n",
        "def text_match(text):\n",
        "        patterns = '^([0-9]{3}.)([0-9]{3}.)[0-9]{3}-[0-9]{2}'\n",
        "        if re.search(patterns,  text):\n",
        "                return 'Encontrei!'\n",
        "        else:\n",
        "                return('Oxe!')\n",
        "\n",
        "print(text_match(\"123.456.789-10\"))\n",
        "print(text_match(\"111123.456.789-10000\"))\n",
        "print(text_match(\"12345678910\"))"
      ],
      "metadata": {
        "id": "Z2OlHt3hYqcG"
      },
      "execution_count": null,
      "outputs": []
    },
    {
      "cell_type": "markdown",
      "source": [
        "4. Altere a variavel patterns do código da questão 1 e escreva um programa em Python que identifique palavras em que apenas a primeira letra é maiúscula."
      ],
      "metadata": {
        "id": "yPO_1AsHwlR0"
      }
    },
    {
      "cell_type": "code",
      "source": [
        "import re\n",
        "def text_match(text):\n",
        "        patterns = '^[A-Z].*'\n",
        "        if re.search(patterns,  text):\n",
        "                return 'Encontrei!'\n",
        "        else:\n",
        "                return('Oxe!')\n",
        "\n",
        "print(text_match(\"Baaa\"))\n",
        "print(text_match(\"aaa\"))\n",
        "print(text_match(\"aaBBa\"))"
      ],
      "metadata": {
        "colab": {
          "base_uri": "https://localhost:8080/"
        },
        "id": "1YEyjyoWNjKu",
        "outputId": "1da5d71d-ae40-4920-95ea-fa83d36bd056"
      },
      "execution_count": null,
      "outputs": [
        {
          "output_type": "stream",
          "name": "stdout",
          "text": [
            "Encontrei!\n",
            "Oxe!\n",
            "Oxe!\n"
          ]
        }
      ]
    },
    {
      "cell_type": "markdown",
      "metadata": {
        "id": "vqWJsf-V7zST"
      },
      "source": [
        "# Classificando Tweets sobre eleições com Expressões Regulares\n",
        "\n",
        "* Objetivos\n",
        "  * Apresentação da biblioteca re da linguagem Python\n",
        "  * Classificar Tweets automaticamente utilizando expressões regulares \n",
        "  * Identificar os políticos mais comentados no Twitter"
      ]
    },
    {
      "cell_type": "markdown",
      "metadata": {
        "id": "HYkvsRZe8hIi"
      },
      "source": [
        "##1  - Utilize o seu BEARER_TOKEN para realizar as consultas na API do Twitter."
      ]
    },
    {
      "cell_type": "code",
      "execution_count": null,
      "metadata": {
        "id": "8uNBt2Sp8qOW"
      },
      "outputs": [],
      "source": [
        "# Use o seu próprio BEARER_TOKEN\n",
        "bearer_token = ''"
      ]
    },
    {
      "cell_type": "markdown",
      "metadata": {
        "id": "oMD6PbL29Joa"
      },
      "source": [
        "## 2 - Defina a sua chave de busca para tweets no Tweeter. Escolha os políticos (presidente da República, governador, senador, deputado federal, deputado estadual ou deputado distrital) que você quer monitorar."
      ]
    },
    {
      "cell_type": "code",
      "execution_count": null,
      "metadata": {
        "id": "by1Ga5hhtHdz"
      },
      "outputs": [],
      "source": [
        "# Essa chave de consulta ficará em branco\n",
        "query = 'lula OR bolsonaro'"
      ]
    },
    {
      "cell_type": "code",
      "execution_count": null,
      "metadata": {
        "cellView": "form",
        "id": "wW36gy-RKkzZ"
      },
      "outputs": [],
      "source": [
        "#@title Mantenha esse código oculto\n",
        "from tqdm import tqdm\n",
        "import json\n",
        "import csv\n",
        "import requests\n",
        "import pandas\n",
        "import time\n",
        "from requests.utils import quote\n",
        "# import emoji\n",
        "import re\n",
        "import pandas as pd\n",
        "import matplotlib.pyplot as plt\n",
        "import numpy as np\n",
        "\n",
        "def connect_to_endpoint(url, headers):\n",
        "    \"\"\" Connects to API URL endpoint \"\"\"\n",
        "    for i in range(1, 14):\n",
        "        try:\n",
        "            response = requests.get(url, headers=headers)\n",
        "            if response.status_code == 200:\n",
        "                return response.json()\n",
        "        except Exception as e:\n",
        "      \n",
        "            print(\"Connection failed, retrying...\",i)\n",
        "            time.sleep(5)\n",
        "\n",
        "def json_extract(obj, key):\n",
        "    \"\"\"Recursively fetch values from nested JSON.\"\"\"\n",
        "    arr = []\n",
        "\n",
        "    def extract(obj, arr, key):\n",
        "        \"\"\"Recursively search for values of key in JSON tree.\"\"\"\n",
        "        if isinstance(obj, dict):\n",
        "            for k, v in obj.items():\n",
        "                if isinstance(v, (dict, list)):\n",
        "                    extract(v, arr, key)\n",
        "                elif k == key:\n",
        "                    arr.append(v)\n",
        "        elif isinstance(obj, list):\n",
        "            for item in obj:\n",
        "                extract(item, arr, key)\n",
        "        return arr\n",
        "\n",
        "    values = extract(obj, arr, key)\n",
        "    return values\n",
        "\n",
        "def main(token):\n",
        "    stop = False\n",
        "    tweets = set()\n",
        "    # for i in tqdm(range(10)):\n",
        "    for i in range(10):\n",
        "        print()\n",
        "        headers = {\"Authorization\": \"Bearer {}\".format(bearer_token)}\n",
        "        query_field = quote(query, safe='')\n",
        "        \n",
        "        if token == '':\n",
        "          url = f'https://api.twitter.com/2/tweets/search/recent?query={query_field}'\n",
        "        else:\n",
        "          url = f'https://api.twitter.com/2/tweets/search/recent?query={query_field}'+'&next_token='+token\n",
        "\n",
        "        time.sleep(3.2) # Sleep for 3 seconds\n",
        "        try:\n",
        "            data = connect_to_endpoint(url, headers)\n",
        "        except Exception as e:\n",
        "            print(\"Oh no!!!\")\n",
        "        id = json_extract(data, 'id')\n",
        "        created_at = json_extract(data, 'id')\n",
        "        author_id = json_extract(data, 'author_id')\n",
        "        text = json_extract(data, 'text')\n",
        "\n",
        "        \n",
        "        for t in text:\n",
        "            tweets.add(t)       \n",
        "        \n",
        "        try:\n",
        "            token = json_extract(data, 'next_token')[0]\n",
        "            with open(token+'.json', 'w', encoding='utf-8') as f:\n",
        "                json.dump(data, f, ensure_ascii=False, indent=4, sort_keys=True)\n",
        "            \n",
        "            break\n",
        "        except:\n",
        "            token = ''\n",
        "            with open('last.json', 'w', encoding='utf-8') as f:\n",
        "                json.dump(data, f, ensure_ascii=False, indent=4, sort_keys=True)\n",
        "            print(\"finished\")\n",
        "            stop = True\n",
        "\n",
        "        if stop:\n",
        "            break\n",
        "    \n",
        "    complete = list(tweets)\n",
        "    return(complete,token)\n",
        "    \n"
      ]
    },
    {
      "cell_type": "markdown",
      "metadata": {
        "id": "L4KUNhyJMVMM"
      },
      "source": [
        "## 3 - Sua tarefa: Defina uma expressão regular que seja capaz de identificar se um tweet é contra ou a favor do seu candidato do coração nestas eleições de 2022. Caso necessário, modifique o gráfico de pizza para melhor visualização.\n",
        "\n",
        "A entrega desta atividade requer dois arquivos:\n",
        "* O arquivo fonte do Google Colab na extensão ipynb\n",
        "* A imagem do gráfico de pizza gerada após a execução do seu código"
      ]
    },
    {
      "cell_type": "code",
      "execution_count": null,
      "metadata": {
        "id": "KHzP4kl8rgCF"
      },
      "outputs": [],
      "source": [
        "from IPython.display import display, clear_output\n",
        "\n",
        "if __name__ == '__main__':\n",
        "  \n",
        "  # Faz uma coleta inicial de Tweets\n",
        "  token = ''\n",
        "\n",
        "  # Geracao de Graficos\n",
        "  y = np.array([0, 0, 0])\n",
        "  labels = [\"Lula\", \"Bolsonaro\", \"Ambos\"]\n",
        "\n",
        "  # Realiza 5 buscas no Twitter, altere essa quantidade como desejar\n",
        "  buscas = 5\n",
        "  for i in range(buscas):\n",
        "    # Utiliza token para continuar buscando Tweets do último ponto de retorno\n",
        "    tweets,token = main(token)  \n",
        "    for t in tweets:\n",
        "      plt.pause(0.5)\n",
        "      plt.clf() \n",
        "      clear_output(wait=True)\n",
        "      print(t)\n",
        "\n",
        "      # Crie suas expressões regulares aqui!!!\n",
        "      favoravel = re.search(\".*lula.*\",t,re.IGNORECASE)\n",
        "      contrario = re.search(\".*bolsonaro.*\",t,re.IGNORECASE)\n",
        "      indefinido = re.search(\"(lula|bolsonaro)\",t,re.IGNORECASE)\n",
        "\n",
        "      if favoravel and contrario==None:\n",
        "        y[0] = y[0]+1\n",
        "      elif contrario and favoravel==None:\n",
        "        y[1] = y[1]+1\n",
        "      else:\n",
        "        y[2] = y[2]+1\n",
        "      \n",
        "      plt.pie(y, labels = labels,autopct='%1.1f%%')\n",
        "      plt.show()\n",
        "\n",
        "    if token == '':\n",
        "      break\n",
        "    \n"
      ]
    }
  ],
  "metadata": {
    "colab": {
      "collapsed_sections": [],
      "provenance": []
    },
    "kernelspec": {
      "display_name": "Python 3",
      "name": "python3"
    },
    "language_info": {
      "name": "python"
    }
  },
  "nbformat": 4,
  "nbformat_minor": 0
}